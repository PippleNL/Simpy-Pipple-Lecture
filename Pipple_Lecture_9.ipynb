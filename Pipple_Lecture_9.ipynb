{
  "nbformat": 4,
  "nbformat_minor": 0,
  "metadata": {
    "colab": {
      "name": "Pipple Lecture 9.ipynb",
      "provenance": []
    },
    "kernelspec": {
      "name": "python3",
      "display_name": "Python 3"
    }
  },
  "cells": [
    {
      "cell_type": "markdown",
      "metadata": {
        "id": "S3oVPSOVITdN",
        "colab_type": "text"
      },
      "source": [
        "# Pipple Lecture 9 -- Simpy\n",
        "In deze Pipple lecture gaan we aan de slag met de basics van Simpy. Meer informatie over Simpy, waaronder handige voorbeelden die vandaag zeker van pas kunnen komen, kan je vinden op https://simpy.readthedocs.io/en/latest/.\n",
        "Voor je Simpy kunt gebruiken moet je het met onderstaande code installeren in Colab, omdat Google Colab Simpy niet als standaard package heeft.\n",
        "\n",
        "\n"
      ]
    },
    {
      "cell_type": "code",
      "metadata": {
        "id": "HHNHkcpjxzYO",
        "colab_type": "code",
        "outputId": "d84d2ec9-18ba-4fd8-a590-994c483c734a",
        "colab": {
          "base_uri": "https://localhost:8080/",
          "height": 84
        }
      },
      "source": [
        "!pip install simpy # Google Colab kent simpy niet dus handmatig installeren"
      ],
      "execution_count": 2,
      "outputs": [
        {
          "output_type": "stream",
          "text": [
            "Collecting simpy\n",
            "  Downloading https://files.pythonhosted.org/packages/5a/64/8f0fc71400d41b6c2c6443d333a1cade458d23d4945ccda700c810ff6aae/simpy-3.0.11-py2.py3-none-any.whl\n",
            "Installing collected packages: simpy\n",
            "Successfully installed simpy-3.0.11\n"
          ],
          "name": "stdout"
        }
      ]
    },
    {
      "cell_type": "markdown",
      "metadata": {
        "id": "tSUsTCqXzB3o",
        "colab_type": "text"
      },
      "source": [
        "Hieronder staat het carwash voorbeeld uit de lecture nog eens uitgewerkt.\n",
        "\n",
        "\n",
        "\n"
      ]
    },
    {
      "cell_type": "code",
      "metadata": {
        "id": "pHzceGi2LU-w",
        "colab_type": "code",
        "outputId": "00d5fa38-8461-4de6-81ea-f56a1cfcaa98",
        "colab": {
          "base_uri": "https://localhost:8080/",
          "height": 527
        }
      },
      "source": [
        "import random\n",
        "import simpy\n",
        "\n",
        "def car(env, name, carwash):\n",
        "  with carwash.request() as req:\n",
        "    # Ask for carwash space\n",
        "    yield req \n",
        "    print(\"%s started washing at %s\" %(name, env.now))\n",
        "    \n",
        "    # Washing car takes between 15 and 20 minutes\n",
        "    yield env.timeout(random.randint(15, 20))\n",
        "    print(\"%s finished washing and left the carwash at %s\" %(name, env.now))\n",
        "\n",
        "def set_up(env):\n",
        "  # Create carwash\n",
        "  carwash = simpy.Resource(env, capacity=4)\n",
        "  \n",
        "  # Create initial 3 cars\n",
        "  for i in range(3):\n",
        "    env.process(car(env, \"Car \" + str(i), carwash))\n",
        "    print(\"Car %s arrived at the carwash at %s\" %(i, env.now))\n",
        "    \n",
        "  # Create remaining 7 cars, all with 5 minutes delay  \n",
        "  for i in range(3, 10):\n",
        "    yield env.timeout(5)\n",
        "    env.process(car(env, \"Car \" + str(i), carwash))\n",
        "    print(\"Car %s arrived at the carwash at %s\" %(i, env.now))\n",
        "\n",
        "\n",
        "env = simpy.Environment()\n",
        "env.process(set_up(env))\n",
        "env.run(100) # simulation time is 100 minutes"
      ],
      "execution_count": 0,
      "outputs": [
        {
          "output_type": "stream",
          "text": [
            "Car 0 arrived at the carwash at 0\n",
            "Car 1 arrived at the carwash at 0\n",
            "Car 2 arrived at the carwash at 0\n",
            "Car 0 started washing at 0\n",
            "Car 1 started washing at 0\n",
            "Car 2 started washing at 0\n",
            "Car 3 arrived at the carwash at 5\n",
            "Car 3 started washing at 5\n",
            "Car 4 arrived at the carwash at 10\n",
            "Car 5 arrived at the carwash at 15\n",
            "Car 1 finished washing and left the carwash at 16\n",
            "Car 4 started washing at 16\n",
            "Car 0 finished washing and left the carwash at 18\n",
            "Car 5 started washing at 18\n",
            "Car 2 finished washing and left the carwash at 20\n",
            "Car 6 arrived at the carwash at 20\n",
            "Car 6 started washing at 20\n",
            "Car 3 finished washing and left the carwash at 21\n",
            "Car 7 arrived at the carwash at 25\n",
            "Car 7 started washing at 25\n",
            "Car 8 arrived at the carwash at 30\n",
            "Car 9 arrived at the carwash at 35\n",
            "Car 4 finished washing and left the carwash at 36\n",
            "Car 8 started washing at 36\n",
            "Car 5 finished washing and left the carwash at 38\n",
            "Car 9 started washing at 38\n",
            "Car 6 finished washing and left the carwash at 39\n",
            "Car 7 finished washing and left the carwash at 43\n",
            "Car 8 finished washing and left the carwash at 53\n",
            "Car 9 finished washing and left the carwash at 54\n"
          ],
          "name": "stdout"
        }
      ]
    },
    {
      "cell_type": "markdown",
      "metadata": {
        "id": "z3Icg_iujIwW",
        "colab_type": "text"
      },
      "source": [
        "\n",
        "\n",
        "---\n",
        "\n",
        "# Kennismaking met processen en resources\n",
        "De basics van Simpy draaien om processen die gebruik maken van resources. Om het voor vandaag allemaal net iets leuker te houden zullen wij vandaag niet werken met een groot magazijn, maar met Pippelaars die aanwezig zijn in de karaoke bar. De setting is dan ook als volgt:\n",
        "\n",
        "\n",
        "*   Drie van onze Pippelaars (processen) zijn bij aanvang van de simulatie al aanwezig in de karaoke bar\n",
        "*   Gedurende de avond stromen er nog 4 Pippelaars binnen (hier zit een normaal verdeelde tijd tussen met een mean van 15 minuten en een standaardafwijking van 3 minuten).\n",
        "*   De Pippelaars willen natuurlijk allemaal een liedje zingen en vragen hiervoor een plekje aan op het podium (resource), ongeveer 10 minuten nadat ze aangekomen zijn (met een standaardafwijking van 2 minuten).\n",
        "*   Een liedje zingen kost 10 minuten. (Ja het zijn lange nummertjes deze avond)\n",
        "\n",
        "**De opdracht:** Momenteel doen de Pippelaars niks anders dan 30 minuten chillen in de karaokebar, om vervolgens weer weg te gaan. (*Zie: def pippelaar(env, name, podium, color)*). Zorg dat de pippelaars ook daadwerkelijk een plekje op het podium aanvragen en print hierbij als output voor iedere pippelaar (in hun eigen kleur) op welk moment:\n",
        "\n",
        "\n",
        "1.   Hij/zij een plekje op het podium aanvraagt\n",
        "2.   Hij/zij ook daadwerkelijk begint met zingen\n",
        "3.   Hij/zij klaar is met zingen\n",
        "\n",
        "\n",
        "\n",
        "Onderstaand stukje code kan gebruikt worden als basis voor de simulatie. Om het overzicht niet kwijt te raken is het handig om deze cell te kopieren en in de gekopieerde versie dingen te proberen, op die manier blijft 'de basiscode' altijd beschikbaar."
      ]
    },
    {
      "cell_type": "code",
      "metadata": {
        "id": "VD6bXbpTISvl",
        "colab_type": "code",
        "outputId": "22648af2-8978-47a6-8afb-9d888b41a10b",
        "colab": {
          "base_uri": "https://localhost:8080/",
          "height": 252
        }
      },
      "source": [
        "import random\n",
        "import simpy\n",
        "from termcolor import colored\n",
        "\n",
        "\n",
        "random.seed(42)\n",
        "pippelaars = ['Ruud', 'Bart', 'Wouter', 'Roos', 'Erlijn', 'Gijs', 'Lars']\n",
        "sim_time = 500  # Simulate until\n",
        "colors = ['grey', 'red', 'green', 'blue', 'yellow', 'magenta', 'cyan'] # Kleuren worden toegevoegd zodat output in kleur geprint kan worden voor de overzichtelijkheid\n",
        "\n",
        "\n",
        "def pippelaar(env, name, podium, color):\n",
        "  \"\"\"A pippelaar arrives at the karaokebar at a certain time and will request a\n",
        "  podium space several minutes after his arrival \"\"\"\n",
        "  \n",
        "  yield env.timeout(30)\n",
        "  # Het enige wat de Pippelaar nu doet is 30 minuten chillen in de karaokebar, dan gaat hij weer weg\n",
        "  \n",
        "  print(colored(\"%s leaves the bar at %s\" % (name, env.now), color))\n",
        "    \n",
        "\n",
        "def pippelaars_arrive(env, pippelaars, colors):\n",
        "  \"\"\" Makes sure Pippelaars arrive at the karaoke bar\"\"\"\n",
        "  podium = simpy.Resource(env, capacity=1) # Resource wordt aangemaakt\n",
        "  \n",
        "  for i in range(3):\n",
        "    # Drie eerste Pippelaars arriveren in de karaokebar\n",
        "    env.process(pippelaar(env, pippelaars[i], podium, colors[i]))\n",
        "    print(colored(\"%s arrived at the karaokebar at %s\" % (pippelaars[i], env.now), colors[i]))\n",
        "    \n",
        "  for i in range(3, 7):\n",
        "    yield env.timeout(random.normalvariate(15, 3))\n",
        "    env.process(pippelaar(env, pippelaars[i], podium, colors[i]))\n",
        "    print(colored(\"%s arrived at the karaokebar at %s\" % (pippelaars[i], env.now), colors[i]))\n",
        "    \n",
        "env = simpy.Environment()\n",
        "env.process(pippelaars_arrive(env, pippelaars, colors))\n",
        "env.run(until=sim_time)\n"
      ],
      "execution_count": 5,
      "outputs": [
        {
          "output_type": "stream",
          "text": [
            "\u001b[30mRuud arrived at the karaokebar at 0\u001b[0m\n",
            "\u001b[31mBart arrived at the karaokebar at 0\u001b[0m\n",
            "\u001b[32mWouter arrived at the karaokebar at 0\u001b[0m\n",
            "\u001b[34mRoos arrived at the karaokebar at 15.73597902512359\u001b[0m\n",
            "\u001b[33mErlijn arrived at the karaokebar at 29.24544560488998\u001b[0m\n",
            "\u001b[30mRuud leaves the bar at 30\u001b[0m\n",
            "\u001b[31mBart leaves the bar at 30\u001b[0m\n",
            "\u001b[32mWouter leaves the bar at 30\u001b[0m\n",
            "\u001b[34mRoos leaves the bar at 45.73597902512359\u001b[0m\n",
            "\u001b[35mGijs arrived at the karaokebar at 48.00980339806237\u001b[0m\n",
            "\u001b[33mErlijn leaves the bar at 59.24544560488998\u001b[0m\n",
            "\u001b[36mLars arrived at the karaokebar at 62.59562620983393\u001b[0m\n",
            "\u001b[35mGijs leaves the bar at 78.00980339806236\u001b[0m\n",
            "\u001b[36mLars leaves the bar at 92.59562620983394\u001b[0m\n"
          ],
          "name": "stdout"
        }
      ]
    },
    {
      "cell_type": "markdown",
      "metadata": {
        "id": "iavP8GV36kff",
        "colab_type": "text"
      },
      "source": [
        "# Priority resources\n",
        "Terwijl de Pippelaars met zijn allen een gezellige tijd hebben in de karaokebar besluit ook ons oprichtertje zijn gezicht te laten zien. Jeroen is echter al zo vaak in de karaokebar geweest dat hij geleerd heeft dat je beter direct bij de DJ een nummer aan kan vragen dan je nummer op te schrijven op een papiertje bij de bar. De nummers die Jeroen aanvraagt komen dan ook altijd boven aan de lijst te staan bij de DJ en hij is altijd eerder aan de beurt dan de andere Pippelaars.\n",
        "\n",
        "**De opdracht:** Zorg dat ook ons oprichtertje arriveert in de karaokebar, en zorg ervoor dat de podium resource voorrang kan geven aan verzoekjes die Jeroen doet. Zorg dat Jeroen ergens tussen de 15 en 45 minuten aankomt in de karaokebar, ook hij wacht 10 minuten (met een afwijking van 2 minuten) tot hij een nummer aan gaat vragen. Maar als hij dan eenmaal een nummer gaat aanvragen komt hij vooraan in de wachtrij. Een opzet voor hoe Jeroen in het set_up process verwerkt kan worden is gedaan in de volgende cell."
      ]
    },
    {
      "cell_type": "code",
      "metadata": {
        "id": "PedpLju28-AG",
        "colab_type": "code",
        "colab": {
          "base_uri": "https://localhost:8080/",
          "height": 252
        },
        "outputId": "f0be3000-7cab-47e4-9d06-1a23be29a068"
      },
      "source": [
        "import random\n",
        "import simpy\n",
        "from termcolor import colored\n",
        "\n",
        "\n",
        "random.seed(42)\n",
        "pippelaars = ['Ruud', 'Bart', 'Wouter', 'Roos', 'Erlijn', 'Gijs', 'Lars']\n",
        "sim_time = 500  # Simulate until\n",
        "colors = ['grey', 'red', 'green', 'blue', 'yellow', 'magenta', 'cyan'] # Kleuren worden toegevoegd zodat output in kleur geprint kan worden voor de overzichtelijkheid\n",
        "\n",
        "def pippelaar(env, name, podium, color):\n",
        "  \"\"\"A pippelaar arrives at the karaokebar at a certain time and will request a\n",
        "  podium space several minutes after his arrival \"\"\"\n",
        "  \n",
        "  yield env.timeout(30)\n",
        "  # Het enige wat de Pippelaar nu doet is 30 minuten chillen in de karaokebar, dan gaat hij weer weg\n",
        "  # --> Gebruik hier je code van de vorige opdracht\n",
        "  \n",
        "  print(colored(\"%s leaves the bar at %s\" % (name, env.now), color))\n",
        "\n",
        "def set_up(env, pippelaars, colors):\n",
        "  \"\"\" Makes sure Pippelaars arrive at the karaoke bar\"\"\"\n",
        "  podium = simpy.Resource(env, capacity=1)\n",
        "  env.process(jeroen_arriveert(env, podium))\n",
        "  \n",
        "  for i in range(3):\n",
        "    env.process(pippelaar(env, pippelaars[i], podium, colors[i]))\n",
        "    print(colored(\"%s arrived at the karaokebar at %s\" % (pippelaars[i], env.now), colors[i]))\n",
        "    \n",
        "  for i in range(3, 7):\n",
        "    yield env.timeout(random.normalvariate(15, 3))\n",
        "    env.process(pippelaar(env, pippelaars[i], podium, colors[i]))\n",
        "    print(colored(\"%s arrived at the karaokebar at %s\" % (pippelaars[i], env.now), colors[i]))\n",
        "\n",
        "def jeroen_arriveert(env, podium):\n",
        "  \"\"\"Het oprichtertje verdient een apart simpy process om zijn gedrag te simuleren, omdat het anders is dan dat van de andere pippelaars\"\"\"\n",
        "  yield env.timeout(1600) # Nu blijft Jeroen eigenlijk heel de avond door het raam naar binnen kijken zonder de bar in te komen\n",
        "  # Simuleer zijn aankomst tijd\n",
        "\n",
        "  # Ook het oprichtertje heeft even tijd nodig om binnen te komen en zal pas na ongeveer 10 minuten een nummertje aan gaan vragen\n",
        "\n",
        "  # Laat hem een aanvraag doen voor een podiumplekje\n",
        "\n",
        "\n",
        "env = simpy.Environment()\n",
        "env.process(set_up(env, pippelaars, colors))\n",
        "env.run(until=sim_time)"
      ],
      "execution_count": 9,
      "outputs": [
        {
          "output_type": "stream",
          "text": [
            "\u001b[30mRuud arrived at the karaokebar at 0\u001b[0m\n",
            "\u001b[31mBart arrived at the karaokebar at 0\u001b[0m\n",
            "\u001b[32mWouter arrived at the karaokebar at 0\u001b[0m\n",
            "\u001b[34mRoos arrived at the karaokebar at 15.73597902512359\u001b[0m\n",
            "\u001b[33mErlijn arrived at the karaokebar at 29.24544560488998\u001b[0m\n",
            "\u001b[30mRuud leaves the bar at 30\u001b[0m\n",
            "\u001b[31mBart leaves the bar at 30\u001b[0m\n",
            "\u001b[32mWouter leaves the bar at 30\u001b[0m\n",
            "\u001b[34mRoos leaves the bar at 45.73597902512359\u001b[0m\n",
            "\u001b[35mGijs arrived at the karaokebar at 48.00980339806237\u001b[0m\n",
            "\u001b[33mErlijn leaves the bar at 59.24544560488998\u001b[0m\n",
            "\u001b[36mLars arrived at the karaokebar at 62.59562620983393\u001b[0m\n",
            "\u001b[35mGijs leaves the bar at 78.00980339806236\u001b[0m\n",
            "\u001b[36mLars leaves the bar at 92.59562620983394\u001b[0m\n"
          ],
          "name": "stdout"
        }
      ]
    },
    {
      "cell_type": "markdown",
      "metadata": {
        "id": "54PJt8JoIDYc",
        "colab_type": "text"
      },
      "source": [
        "# Condition events\n",
        "Naast zingen houden onze Pippelaars in de karaokebar ook wel van een biertje. Om de zoveel tijd komt er dan ook een biertje richting de pippelaars. Mocht een pippelaar nou een biertje vasthebben terwijl het zijn/haar beurt wordt om te zingen dan loopt de Pippelaar helaas zijn/haar beurt mis, omdat er alleen nog maar gefocussed werd op het biertje.\n",
        "\n",
        "**De opdracht:** \n",
        "\n",
        "*   Iedere 15 minuten krijgen de Pippelaars een biertje en ze doen er allemaal tussen de 5 en 10 minuten over om dit biertje op te drinken. (Random verdeling tussen de 5 en 10 minuten.) Als een Pippelaar op het podium staat en dan een biertje krijgt is er niks aan de hand en zingt hij/zij lekker door. Maar staat een Pippelaar een biertje te drinken op het moment dat hij/zij aan de beurt is om naar het podium te gaan dan loopt hij/zij deze kans mis.\n",
        "*   Pippelaars gaan nu niet weg uit de bar nadat ze een nummer hebben gezongen maar blijven gewoon rondhangen. Na 5 tot 35 minuten gaan ze weer een nieuw nummer aanvragen.\n",
        "* De logica voor een Pippelaar wordt dus als volgt:\n",
        "> 1. Na binnenkomst ongeveer 10 minuten wachten tot het aanvragen van een nummer\n",
        "> 2. Nummer aanvragen\n",
        "> 3. Wachten tot er plaats is op het podium\n",
        "> 4. Zodra er plaats is op het podium gaan zingen (duurt 10 minuten), tenzij de Pippelaar bier vast heeft, dan vervalt het zingen en gaat de Pippelaar na 5 tot 35 minuten een nieuw nummer aanvragen. (Let op, ook als de Pippelaar wel heeft mogen zingen gaat hij/zij na 5 tot 35 minuten een nieuw nummer aanvragen.)\n",
        "\n",
        "\n",
        "\n",
        "\n",
        "\n",
        "\n"
      ]
    },
    {
      "cell_type": "code",
      "metadata": {
        "id": "LAOLgJHmJyWj",
        "colab_type": "code",
        "colab": {
          "base_uri": "https://localhost:8080/",
          "height": 252
        },
        "outputId": "3645f2c4-eda0-4d43-dfe3-e1cb9faacb84"
      },
      "source": [
        "import random\n",
        "import simpy\n",
        "from termcolor import colored\n",
        "\n",
        "\n",
        "random.seed(42)\n",
        "pippelaars = ['Ruud', 'Bart', 'Wouter', 'Roos', 'Erlijn', 'Gijs', 'Lars']\n",
        "sim_time = 150  # Simulate until\n",
        "colors = ['grey', 'red', 'green', 'blue', 'yellow', 'magenta', 'cyan'] # Kleuren worden toegevoegd zodat output in kleur geprint kan worden voor de overzichtelijkheid\n",
        "\n",
        "\n",
        "def pippelaar(env, name, podium, color, has_beer):\n",
        "  \"\"\"A pippelaar arrives at the karaokebar at a certain time and will request a\n",
        "  podium space several minutes after his arrival \"\"\"\n",
        "  \n",
        "  yield env.timeout(30)\n",
        "  # Het enige wat de Pippelaar nu doet is 30 minuten chillen in de karaokebar, dan gaat hij weer weg\n",
        "  print(colored(\"%s leaves the bar at %s\" % (name, env.now), color))\n",
        "  \n",
        "  \n",
        "def set_up(env, pippelaars, colors, has_beer):\n",
        "  \"\"\" Makes sure Pippelaars arrive at the karaoke bar\"\"\"\n",
        "  podium = simpy.PriorityResource(env, capacity=1)\n",
        "  env.process(jeroen_arriveert(env, 'Jeroen', podium))\n",
        "    \n",
        "  for i in range(3):\n",
        "    env.process(pippelaar(env, pippelaars[i], podium, colors[i], has_beer))\n",
        "    print(colored(\"%s arrived at the karaokebar at %s\" % (pippelaars[i], env.now), colors[i]))\n",
        "    \n",
        "  for i in range(3, 7):\n",
        "    yield env.timeout(random.normalvariate(15, 3))\n",
        "    env.process(pippelaar(env, pippelaars[i], podium, colors[i], has_beer))\n",
        "    print(colored(\"%s arrived at the karaokebar at %s\" % (pippelaars[i], env.now), colors[i]))\n",
        "    \n",
        "  # Zodra alle Pippelaars binnen zijn begint het bier te komen\n",
        "  env.process(get_beer(env, pippelaars, has_beer, colors))\n",
        "    \n",
        "    \n",
        "def jeroen_arriveert(env, name, podium):\n",
        "  \"\"\"Het oprichtertje verdient een apart simpy process om zijn gedrag te simuleren, omdat het anders is dan dat van de andere pippelaars\"\"\"\n",
        "  yield env.timeout(1600) # Nu blijft Jeroen eigenlijk heel de avond door het raam naar binnen kijken zonder de bar in te komen\n",
        "   \n",
        "  # Gebruik hier de code van de vorige opdracht\n",
        "  \n",
        "    \n",
        "def get_beer(env,pippelaars, has_beer, colors):\n",
        "  \"\"\" Iedere 15 minuten komt er bier voor iedereen. Iedereen doet er tussen 5 en\n",
        "  10 minuten over om het op te drinken. \"\"\"\n",
        "  \n",
        "  while True:\n",
        "    # Nu doet dit niks afgezien van dat dit process steeds een timeout van 15 minuten krijgt\n",
        "    # Hint: drink_beer moet hier gebruikt worden\n",
        "    yield env.timeout(15)\n",
        "    \n",
        "  \n",
        "def drink_beer(env, name, has_beer, color):\n",
        "  has_beer[name].succeed() # Triggered het 'has_beer' event van een Pippelaar\n",
        "  yield env.timeout(random.randint(5,10))\n",
        "  print(colored(\"%s finished his/her drink at %s\" %(name, env.now),color))\n",
        "  has_beer[name] = env.event() # Zet een nieuw 'has_beer' event op de naam van de Pippelaar \n",
        "  \n",
        "\n",
        "has_beer = {pippelaar: env.event() for pippelaar in pippelaars} # Geeft iedereen een event 'has_beer' dat nog niet getriggered is, \n",
        "# als dit event wel getriggered is mag de Pippelaar niet het podium op\n",
        "env = simpy.Environment()\n",
        "env.process(set_up(env, pippelaars, colors, has_beer))\n",
        "env.run(until=sim_time)"
      ],
      "execution_count": 10,
      "outputs": [
        {
          "output_type": "stream",
          "text": [
            "\u001b[30mRuud arrived at the karaokebar at 0\u001b[0m\n",
            "\u001b[31mBart arrived at the karaokebar at 0\u001b[0m\n",
            "\u001b[32mWouter arrived at the karaokebar at 0\u001b[0m\n",
            "\u001b[34mRoos arrived at the karaokebar at 15.73597902512359\u001b[0m\n",
            "\u001b[33mErlijn arrived at the karaokebar at 29.24544560488998\u001b[0m\n",
            "\u001b[30mRuud leaves the bar at 30\u001b[0m\n",
            "\u001b[31mBart leaves the bar at 30\u001b[0m\n",
            "\u001b[32mWouter leaves the bar at 30\u001b[0m\n",
            "\u001b[34mRoos leaves the bar at 45.73597902512359\u001b[0m\n",
            "\u001b[35mGijs arrived at the karaokebar at 48.00980339806237\u001b[0m\n",
            "\u001b[33mErlijn leaves the bar at 59.24544560488998\u001b[0m\n",
            "\u001b[36mLars arrived at the karaokebar at 62.59562620983393\u001b[0m\n",
            "\u001b[35mGijs leaves the bar at 78.00980339806236\u001b[0m\n",
            "\u001b[36mLars leaves the bar at 92.59562620983394\u001b[0m\n"
          ],
          "name": "stdout"
        }
      ]
    }
  ]
}